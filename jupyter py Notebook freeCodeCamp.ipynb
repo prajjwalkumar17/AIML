{
 "cells": [
  {
   "cell_type": "markdown",
   "id": "5ade3906",
   "metadata": {},
   "source": [
    "## PythonCodeCamp"
   ]
  },
  {
   "cell_type": "code",
   "execution_count": 1,
   "id": "4ddf6c7e",
   "metadata": {
    "scrolled": true
   },
   "outputs": [
    {
     "name": "stdout",
     "output_type": "stream",
     "text": [
      "Hello World!!\n"
     ]
    }
   ],
   "source": [
    "print('Hello World!!')"
   ]
  },
  {
   "cell_type": "markdown",
   "id": "ac4e932a",
   "metadata": {},
   "source": [
    "### using variable to store data"
   ]
  },
  {
   "cell_type": "code",
   "execution_count": 4,
   "id": "0c3caaf4",
   "metadata": {},
   "outputs": [
    {
     "name": "stdout",
     "output_type": "stream",
     "text": [
      "My Name is Ashish, I am 22 Years old\n"
     ]
    }
   ],
   "source": [
    "name = \"Ashish\"\n",
    "age = \"22\"\n",
    "\n",
    "print(\"My Name is \" + name + \", I am \" + age + \" Years old\")"
   ]
  },
  {
   "cell_type": "markdown",
   "id": "a2ddec67",
   "metadata": {},
   "source": [
    "## Taking User input\n",
    "### Example of Taking User input in Python "
   ]
  },
  {
   "cell_type": "code",
   "execution_count": 5,
   "id": "0718bba0",
   "metadata": {},
   "outputs": [
    {
     "name": "stdout",
     "output_type": "stream",
     "text": [
      "Enter your Name: Ashish\n",
      "Hello Ashish!\n"
     ]
    }
   ],
   "source": [
    "name = input(\"Enter your Name: \")\n",
    "print(\"Hello \" + name + \"!\")"
   ]
  },
  {
   "cell_type": "markdown",
   "id": "8f72f1d3",
   "metadata": {},
   "source": [
    "### Basic Arithmetic operations"
   ]
  },
  {
   "cell_type": "code",
   "execution_count": 16,
   "id": "20a4834f",
   "metadata": {},
   "outputs": [
    {
     "name": "stdout",
     "output_type": "stream",
     "text": [
      "Enter a number: 15\n",
      "Enter another number: 6\n",
      "The addition of two numbers 15  and  6 is 21\n",
      "The subtraction of two numbers 15  and  6 is 9\n",
      "The multiplication of two numbers 15  and  6 is 90\n",
      "The modulus of two numbers 15  and  6 is 3\n",
      "The Divison of two numbers 15  and  6 is 2.5\n"
     ]
    }
   ],
   "source": [
    "def add(x, y):\n",
    "    return x+y\n",
    "\n",
    "def sub(x, y):\n",
    "    return x-y\n",
    "\n",
    "def mul(x, y):\n",
    "    return x*y\n",
    "\n",
    "def mod(x, y):\n",
    "    try:\n",
    "        return x%y\n",
    "    except:\n",
    "        print(\"Enter the Valid Divisor\")\n",
    "        \n",
    "def div(x, y):\n",
    "    try:\n",
    "        return x/y\n",
    "    except:\n",
    "        print(\"Enter the Valid Divisior\")\n",
    "        \n",
    "num1 = int(input(\"Enter a number: \"))\n",
    "num2 = int(input(\"Enter another number: \"))\n",
    "\n",
    "print(\"The addition of two numbers\", num1 ,\" and \", num2, \"is\", add(num1, num2))\n",
    "print(\"The subtraction of two numbers\", num1 ,\" and \", num2, \"is\", sub(num1, num2))\n",
    "print(\"The multiplication of two numbers\", num1 ,\" and \", num2, \"is\", mul(num1, num2))\n",
    "print(\"The modulus of two numbers\", num1 ,\" and \", num2, \"is\", mod(num1, num2))\n",
    "print(\"The Divison of two numbers\", num1 ,\" and \", num2, \"is\", div(num1, num2))\n"
   ]
  },
  {
   "cell_type": "markdown",
   "id": "15f864d0",
   "metadata": {},
   "source": [
    "### Check number is Odd or Even"
   ]
  },
  {
   "cell_type": "code",
   "execution_count": 9,
   "id": "dc4ddc37",
   "metadata": {},
   "outputs": [
    {
     "name": "stdout",
     "output_type": "stream",
     "text": [
      "Enter the Number: 2\n",
      "The given Number 2 is even\n"
     ]
    }
   ],
   "source": [
    "def OddorEven(x):\n",
    "    if(int(x)%2 == 0):\n",
    "        print(\"The given Number\", x, \"is even\")\n",
    "    else:\n",
    "        print(\"The given Number\", x , \"is odd\")\n",
    "        \n",
    "number = int(input(\"Enter the Number: \"))\n",
    "OddorEven(number)"
   ]
  },
  {
   "cell_type": "markdown",
   "id": "359e8b68",
   "metadata": {},
   "source": [
    "### Factorial of given number"
   ]
  },
  {
   "cell_type": "code",
   "execution_count": 12,
   "id": "999983c9",
   "metadata": {},
   "outputs": [
    {
     "name": "stdout",
     "output_type": "stream",
     "text": [
      "Enter the number: 4\n",
      "The Factorial of 4  is 24\n"
     ]
    }
   ],
   "source": [
    "def fact(x):\n",
    "    if(x == 0):\n",
    "        return 1\n",
    "    else:\n",
    "        return(x*fact(x-1))\n",
    "number = int(input(\"Enter the number: \"))\n",
    "print(\"The Factorial of\", number ,\" is\", fact(number))"
   ]
  },
  {
   "cell_type": "markdown",
   "id": "a60553b0",
   "metadata": {},
   "source": [
    "### Fibonacci"
   ]
  },
  {
   "cell_type": "code",
   "execution_count": 15,
   "id": "22fb9b47",
   "metadata": {},
   "outputs": [
    {
     "name": "stdout",
     "output_type": "stream",
     "text": [
      "Enter the number: 5\n",
      "Fibonacci series \n",
      "0\n",
      "1\n",
      "1\n",
      "2\n",
      "3\n"
     ]
    }
   ],
   "source": [
    "def fib(x):\n",
    "    if(x <= 1):\n",
    "        return x\n",
    "    else:\n",
    "        return(fib(x-1)+fib(x-2))\n",
    "number = int(input(\"Enter the number: \"))\n",
    "print(\"Fibonacci series \")\n",
    "for i in range(number):\n",
    "    print(fib(i))"
   ]
  },
  {
   "cell_type": "markdown",
   "id": "804733e8",
   "metadata": {},
   "source": [
    "### Mad Lib Game"
   ]
  },
  {
   "cell_type": "code",
   "execution_count": 17,
   "id": "0f86a686",
   "metadata": {},
   "outputs": [
    {
     "name": "stdout",
     "output_type": "stream",
     "text": [
      "Enter a color: Red\n",
      "Enter a Plural Noun: violets\n",
      "Enter a Programming: Python\n",
      "Roses are Red\n",
      "violets are blue\n",
      "I love Python\n"
     ]
    }
   ],
   "source": [
    "color = input(\"Enter a color: \")\n",
    "plural_noun = input(\"Enter a Plural Noun: \")\n",
    "programming = input(\"Enter a Programming: \")\n",
    "\n",
    "print(\"Roses are \" + color)\n",
    "print(plural_noun + \" are blue\")\n",
    "print(\"I love \" + programming)"
   ]
  },
  {
   "cell_type": "markdown",
   "id": "c13429b7",
   "metadata": {},
   "source": [
    "### Lists"
   ]
  },
  {
   "cell_type": "code",
   "execution_count": 23,
   "id": "c1e51a25",
   "metadata": {},
   "outputs": [
    {
     "name": "stdout",
     "output_type": "stream",
     "text": [
      "['Akash', 'Karthik', 'Vaibhav', 'Vishnu']\n"
     ]
    }
   ],
   "source": [
    "friends = [\"Akash\", \"Vishnu\", \"Karthik\", \"Vaibhav\"] ## Index 0 = Akash, 1 = vishnu, 2 = karthik\n",
    "friends.sort()\n",
    "print(friends) ## friends[0] prints Akash, [1:] prints list values from index 1 onwards till n;\n"
   ]
  },
  {
   "cell_type": "markdown",
   "id": "81e34bae",
   "metadata": {},
   "source": [
    "### Tuples"
   ]
  },
  {
   "cell_type": "code",
   "execution_count": 24,
   "id": "1e2ee6fa",
   "metadata": {},
   "outputs": [
    {
     "name": "stdout",
     "output_type": "stream",
     "text": [
      "4\n"
     ]
    }
   ],
   "source": [
    "coordinates = (4, 5) ## Tuples are immutable\n",
    "print(coordinates[0])"
   ]
  },
  {
   "cell_type": "markdown",
   "id": "935650c6",
   "metadata": {},
   "source": [
    "### Functions"
   ]
  },
  {
   "cell_type": "code",
   "execution_count": 26,
   "id": "f5e316ea",
   "metadata": {},
   "outputs": [
    {
     "name": "stdout",
     "output_type": "stream",
     "text": [
      "Hello Ashish, you are 22\n",
      "Hello Ram, you are 22\n"
     ]
    }
   ],
   "source": [
    "def fun(name, age): ##def your own Function using def keyword\n",
    "    print(\"Hello \" + name + \", you are \" +str(age))\n",
    "    \n",
    "fun(\"Ashish\", 22)\n",
    "fun(\"Ram\", 22)"
   ]
  },
  {
   "cell_type": "markdown",
   "id": "b46f9b94",
   "metadata": {},
   "source": [
    "### Return Statement"
   ]
  },
  {
   "cell_type": "code",
   "execution_count": 31,
   "id": "3c006459",
   "metadata": {},
   "outputs": [
    {
     "name": "stdout",
     "output_type": "stream",
     "text": [
      "64\n"
     ]
    }
   ],
   "source": [
    "def cube(num):\n",
    "    return num*num*num\n",
    "result = cube(4)\n",
    "print(result)"
   ]
  },
  {
   "cell_type": "markdown",
   "id": "b9b9fb07",
   "metadata": {},
   "source": [
    "### If Statement"
   ]
  },
  {
   "cell_type": "code",
   "execution_count": 38,
   "id": "182ebf01",
   "metadata": {},
   "outputs": [
    {
     "name": "stdout",
     "output_type": "stream",
     "text": [
      "You are a tall male\n"
     ]
    }
   ],
   "source": [
    "is_male = True\n",
    "is_tall = True\n",
    "\n",
    "if is_male and is_tall:\n",
    "    print(\"You are a tall male\")\n",
    "elif is_male and not(is_tall):\n",
    "    print(\"You are a short male\")\n",
    "elif not(is_male) and is_tall:\n",
    "    print(\"You are not male but tall\")\n",
    "else:\n",
    "    print(\"You are either not male nor tall\")"
   ]
  },
  {
   "cell_type": "markdown",
   "id": "858eb85f",
   "metadata": {},
   "source": [
    "### If statements and comparisions"
   ]
  },
  {
   "cell_type": "code",
   "execution_count": 40,
   "id": "8fcdc489",
   "metadata": {},
   "outputs": [
    {
     "name": "stdout",
     "output_type": "stream",
     "text": [
      "40\n"
     ]
    }
   ],
   "source": [
    "def max_num(num1, num2, num3):\n",
    "    if num1 >= num2 and num1 >= num3:\n",
    "        return num1\n",
    "    elif num2 >= num1 and num2 >= num3:\n",
    "        return num2\n",
    "    else:\n",
    "        return num3\n",
    "    \n",
    "print(max_num(3, 40, 5))"
   ]
  },
  {
   "cell_type": "markdown",
   "id": "f80a2709",
   "metadata": {},
   "source": [
    "### Calculator"
   ]
  },
  {
   "cell_type": "code",
   "execution_count": 46,
   "id": "7b29f719",
   "metadata": {},
   "outputs": [
    {
     "name": "stdout",
     "output_type": "stream",
     "text": [
      "Enter first number: 5\n",
      "Enter operator: +\n",
      "Enter second number: 23\n",
      "28.0\n"
     ]
    }
   ],
   "source": [
    "num1 = float(input(\"Enter first number: \"))\n",
    "op = input(\"Enter operator: \")\n",
    "num2 = float(input(\"Enter second number: \"))\n",
    "\n",
    "if op == \"+\":\n",
    "    print(num1 + num2)\n",
    "    \n",
    "elif op == \"-\":\n",
    "    print(num1 - num2)\n",
    "    \n",
    "elif op == \"*\":\n",
    "    print(num1 * num2)\n",
    "    \n",
    "elif op == \"/\":\n",
    "    print(num1 / num2)\n",
    "elif op == \"%\":\n",
    "    print(num1 % num2)\n",
    "else:\n",
    "    print(\"Enter valid operator\")\n"
   ]
  },
  {
   "cell_type": "markdown",
   "id": "f991246e",
   "metadata": {},
   "source": [
    "### Dictionaries"
   ]
  },
  {
   "cell_type": "code",
   "execution_count": 48,
   "id": "32d19da8",
   "metadata": {},
   "outputs": [
    {
     "name": "stdout",
     "output_type": "stream",
     "text": [
      "March\n"
     ]
    }
   ],
   "source": [
    "monthConversions = {\n",
    "    \"Jan\": \"January\",\n",
    "    \"Feb\": \"February\",\n",
    "    \"Mar\": \"March\",\n",
    "}\n",
    "# Key Value Pairs\n",
    "\n",
    "##print(monthConversions[\"Feb\"])\n",
    "print(monthConversions.get(\"Mar\"))\n"
   ]
  },
  {
   "cell_type": "markdown",
   "id": "bac6c4c1",
   "metadata": {},
   "source": [
    "### While Loop"
   ]
  },
  {
   "cell_type": "code",
   "execution_count": 49,
   "id": "67f76b19",
   "metadata": {},
   "outputs": [
    {
     "name": "stdout",
     "output_type": "stream",
     "text": [
      "1\n",
      "2\n",
      "3\n",
      "4\n",
      "5\n",
      "6\n",
      "7\n",
      "8\n",
      "9\n",
      "10\n",
      "Done with Loop\n"
     ]
    }
   ],
   "source": [
    "i = 1\n",
    "while i <= 10: # Until condition is true it keeps executing\n",
    "    print(i)\n",
    "    i += 1 # adds 1 to i again goes to condition checks for it and keeps iterating\n",
    "    \n",
    "print(\"Done with Loop\")"
   ]
  },
  {
   "cell_type": "markdown",
   "id": "5195cda6",
   "metadata": {},
   "source": [
    "### Building Basic Guessing Game"
   ]
  },
  {
   "cell_type": "code",
   "execution_count": 52,
   "id": "08bfa99b",
   "metadata": {},
   "outputs": [
    {
     "name": "stdout",
     "output_type": "stream",
     "text": [
      "Enter guess: cs\n",
      "Enter guess: s\n",
      "Enter guess: giraffe\n",
      "You Win !!\n"
     ]
    }
   ],
   "source": [
    "secret_word = \"giraffe\"\n",
    "guess = \"\"\n",
    "guess_count = 0\n",
    "guess_limit = 3\n",
    "out_of_guesses = False\n",
    "\n",
    "while guess != secret_word and not(out_of_guesses):\n",
    "    if guess_count < guess_limit:\n",
    "        guess = input(\"Enter guess: \")\n",
    "        guess_count += 1\n",
    "    else:\n",
    "        out_of_guesses = True\n",
    "        \n",
    "if out_of_guesses:\n",
    "    print(\"Out of Guesses, YOU LOSE!\")\n",
    "else:\n",
    "    print(\"You Win !!\")"
   ]
  },
  {
   "cell_type": "markdown",
   "id": "ce0e4544",
   "metadata": {},
   "source": [
    "### For Loop"
   ]
  },
  {
   "cell_type": "code",
   "execution_count": 55,
   "id": "9d92475f",
   "metadata": {},
   "outputs": [
    {
     "name": "stdout",
     "output_type": "stream",
     "text": [
      "0\n",
      "1\n",
      "2\n",
      "3\n",
      "4\n",
      "Jim\n",
      "John\n",
      "Kevin\n",
      "First Iteration\n",
      "Not first\n",
      "Not first\n",
      "Not first\n",
      "Not first\n"
     ]
    }
   ],
   "source": [
    "for index in range(5):\n",
    "    print(index)\n",
    "    \n",
    "friends = [\"Jim\", \"John\", \"Kevin\"]\n",
    "for friend in friends:\n",
    "    print(friend)\n",
    "    \n",
    "for index in range(5):\n",
    "    if index == 0:\n",
    "        print(\"First Iteration\")\n",
    "    else:\n",
    "        print(\"Not first\")"
   ]
  },
  {
   "cell_type": "markdown",
   "id": "1f5b284a",
   "metadata": {},
   "source": [
    "### Exponent Component"
   ]
  },
  {
   "cell_type": "code",
   "execution_count": 58,
   "id": "3a84efbe",
   "metadata": {},
   "outputs": [
    {
     "name": "stdout",
     "output_type": "stream",
     "text": [
      "9\n"
     ]
    }
   ],
   "source": [
    "# print(2**3)\n",
    "\n",
    "def raise_to_power(base_num, pow_num):\n",
    "    result = 1\n",
    "    for index in range(pow_num):\n",
    "        result = result * base_num\n",
    "    return result\n",
    "    \n",
    "print(raise_to_power(3, 2))"
   ]
  },
  {
   "cell_type": "markdown",
   "id": "148f063e",
   "metadata": {},
   "source": [
    "### 2D Lists and Nested"
   ]
  },
  {
   "cell_type": "code",
   "execution_count": 61,
   "id": "59434c3b",
   "metadata": {},
   "outputs": [
    {
     "name": "stdout",
     "output_type": "stream",
     "text": [
      "1\n",
      "2\n",
      "3\n",
      "4\n",
      "5\n",
      "6\n",
      "7\n",
      "8\n",
      "9\n",
      "0\n"
     ]
    }
   ],
   "source": [
    "number_grid = [\n",
    "    [1, 2, 3],\n",
    "    [4, 5, 6],\n",
    "    [7, 8, 9],\n",
    "    [0]\n",
    "]\n",
    "\n",
    "# print(number_grid[2][1])\n",
    "\n",
    "for row in number_grid:\n",
    "    for col in row:\n",
    "        print(col)"
   ]
  },
  {
   "cell_type": "markdown",
   "id": "a246b813",
   "metadata": {},
   "source": [
    "### Build Basic translator"
   ]
  },
  {
   "cell_type": "code",
   "execution_count": 65,
   "id": "486ff6a3",
   "metadata": {},
   "outputs": [
    {
     "name": "stdout",
     "output_type": "stream",
     "text": [
      "Enter a phrase: Ok\n",
      "Gk\n"
     ]
    }
   ],
   "source": [
    "def translate(phrase):\n",
    "    translation = \"\"\n",
    "    for letter in phrase:\n",
    "        if letter.lower() in \"aeiou\":\n",
    "            if letter.isupper():\n",
    "                translation = translation + \"G\"\n",
    "            else:\n",
    "                translation = translation + \"g\"\n",
    "        else:\n",
    "            translation = translation + letter\n",
    "    return translation\n",
    "print(translate(input(\"Enter a phrase: \")))"
   ]
  },
  {
   "cell_type": "markdown",
   "id": "7ab4ca27",
   "metadata": {},
   "source": [
    "### Comments"
   ]
  },
  {
   "cell_type": "code",
   "execution_count": 66,
   "id": "09a93a47",
   "metadata": {},
   "outputs": [
    {
     "name": "stdout",
     "output_type": "stream",
     "text": [
      "Comments for Fun\n"
     ]
    }
   ],
   "source": [
    "#This Program is Comment\n",
    "print(\"Comments for Fun\") #This prints out a string \n",
    "\n",
    "# Single line Comment\n"
   ]
  },
  {
   "cell_type": "markdown",
   "id": "32f46933",
   "metadata": {},
   "source": [
    "### Try Except"
   ]
  },
  {
   "cell_type": "code",
   "execution_count": 70,
   "id": "6f931658",
   "metadata": {},
   "outputs": [
    {
     "name": "stdout",
     "output_type": "stream",
     "text": [
      "Divided by Zero\n"
     ]
    }
   ],
   "source": [
    "try:\n",
    "    answer = 10/0\n",
    "    number = int(input(\"Enter a number: \"))\n",
    "    print(number)\n",
    "\n",
    "except ZeroDivisionError:\n",
    "    print(\"Divided by Zero\")\n",
    "except ValueError:\n",
    "    print(\"invalid input\")\n",
    "except:\n",
    "    print(\"Invalid Input\")\n",
    "        "
   ]
  },
  {
   "cell_type": "code",
   "execution_count": null,
   "id": "71d1c8d0",
   "metadata": {},
   "outputs": [],
   "source": []
  }
 ],
 "metadata": {
  "kernelspec": {
   "display_name": "Python 3 (ipykernel)",
   "language": "python",
   "name": "python3"
  },
  "language_info": {
   "codemirror_mode": {
    "name": "ipython",
    "version": 3
   },
   "file_extension": ".py",
   "mimetype": "text/x-python",
   "name": "python",
   "nbconvert_exporter": "python",
   "pygments_lexer": "ipython3",
   "version": "3.10.0"
  }
 },
 "nbformat": 4,
 "nbformat_minor": 5
}

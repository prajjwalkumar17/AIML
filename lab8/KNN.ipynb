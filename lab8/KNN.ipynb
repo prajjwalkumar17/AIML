{
 "cells": [
  {
   "cell_type": "markdown",
   "id": "8ced8a02",
   "metadata": {},
   "source": [
    "### Lab 8: Write a program to implement K-Nearest Neighbour algorithm to classify the iris data set. Print both correct and wrong predictions. Java/Python ML library classes can be used for this problem."
   ]
  },
  {
   "cell_type": "code",
   "execution_count": 1,
   "id": "8e793815",
   "metadata": {},
   "outputs": [
    {
     "name": "stdout",
     "output_type": "stream",
     "text": [
      "Iris Data set loaded...\n",
      "Label 0 - setosa\n",
      "Label 1 - versicolor\n",
      "Label 2 - virginica\n",
      "Results of Classification using K-nn with K=1 \n",
      " Sample: [5.  3.6 1.4 0.2]  Actual-label: 0  Predicted-label: 0\n",
      "Classification Accuracy : 0.9333333333333333\n",
      " Sample: [4.5 2.3 1.3 0.3]  Actual-label: 0  Predicted-label: 0\n",
      "Classification Accuracy : 0.9333333333333333\n",
      " Sample: [5.1 3.5 1.4 0.3]  Actual-label: 0  Predicted-label: 0\n",
      "Classification Accuracy : 0.9333333333333333\n",
      " Sample: [6.1 2.6 5.6 1.4]  Actual-label: 2  Predicted-label: 1\n",
      "Classification Accuracy : 0.9333333333333333\n",
      " Sample: [4.4 2.9 1.4 0.2]  Actual-label: 0  Predicted-label: 0\n",
      "Classification Accuracy : 0.9333333333333333\n",
      " Sample: [5.2 3.5 1.5 0.2]  Actual-label: 0  Predicted-label: 0\n",
      "Classification Accuracy : 0.9333333333333333\n",
      " Sample: [6.2 3.4 5.4 2.3]  Actual-label: 2  Predicted-label: 2\n",
      "Classification Accuracy : 0.9333333333333333\n",
      " Sample: [4.8 3.4 1.9 0.2]  Actual-label: 0  Predicted-label: 0\n",
      "Classification Accuracy : 0.9333333333333333\n",
      " Sample: [6.9 3.1 5.4 2.1]  Actual-label: 2  Predicted-label: 2\n",
      "Classification Accuracy : 0.9333333333333333\n",
      " Sample: [5.6 3.  4.1 1.3]  Actual-label: 1  Predicted-label: 1\n",
      "Classification Accuracy : 0.9333333333333333\n",
      " Sample: [4.7 3.2 1.6 0.2]  Actual-label: 0  Predicted-label: 0\n",
      "Classification Accuracy : 0.9333333333333333\n",
      " Sample: [6.3 2.3 4.4 1.3]  Actual-label: 1  Predicted-label: 1\n",
      "Classification Accuracy : 0.9333333333333333\n",
      " Sample: [5.1 3.4 1.5 0.2]  Actual-label: 0  Predicted-label: 0\n",
      "Classification Accuracy : 0.9333333333333333\n",
      " Sample: [6.  2.9 4.5 1.5]  Actual-label: 1  Predicted-label: 1\n",
      "Classification Accuracy : 0.9333333333333333\n",
      " Sample: [5.4 3.9 1.3 0.4]  Actual-label: 0  Predicted-label: 0\n",
      "Classification Accuracy : 0.9333333333333333\n"
     ]
    }
   ],
   "source": [
    "from sklearn.model_selection import train_test_split \n",
    "from sklearn.neighbors import KNeighborsClassifier \n",
    "from sklearn import datasets\n",
    "iris=datasets.load_iris() \n",
    "print(\"Iris Data set loaded...\")\n",
    "x_train, x_test, y_train, y_test = train_test_split(iris.data,iris.target,test_size=0.1)\n",
    "#random_state=0\n",
    "for i in range(len(iris.target_names)):\n",
    "    print(\"Label\", i , \"-\",str(iris.target_names[i]))\n",
    "classifier = KNeighborsClassifier(n_neighbors=2)\n",
    "classifier.fit(x_train, y_train)\n",
    "y_pred=classifier.predict(x_test)\n",
    "print(\"Results of Classification using K-nn with K=1 \") \n",
    "for r in range(0,len(x_test)):\n",
    "    print(\" Sample:\", str(x_test[r]), \" Actual-label:\", str(y_test[r]),\" Predicted-label:\", str(y_pred[r]))\n",
    "\n",
    "    print(\"Classification Accuracy :\" , classifier.score(x_test,y_test));"
   ]
  }
 ],
 "metadata": {
  "kernelspec": {
   "display_name": "Python 3 (ipykernel)",
   "language": "python",
   "name": "python3"
  },
  "language_info": {
   "codemirror_mode": {
    "name": "ipython",
    "version": 3
   },
   "file_extension": ".py",
   "mimetype": "text/x-python",
   "name": "python",
   "nbconvert_exporter": "python",
   "pygments_lexer": "ipython3",
   "version": "3.10.0"
  }
 },
 "nbformat": 4,
 "nbformat_minor": 5
}
